{
 "cells": [
  {
   "cell_type": "markdown",
   "metadata": {},
   "source": [
    "# Step 1: Run this cell first to import all libraries and functions"
   ]
  },
  {
   "cell_type": "code",
   "execution_count": 2,
   "metadata": {},
   "outputs": [],
   "source": [
    "#=========== PARAMETERS =============#\n",
    "# make meeting notes\n",
    "query_sp = 'exec [MDA-DB-DEV-CLA-AE].planner.createMeetingNotes2 ?, ?, ?'\n",
    "meeting_notes_columns = ['Section', 'Card Created DateTime', 'Bucket', 'Card Title', 'Card Labels', 'Date Description', 'Task Description', 'Comments', 'Assigneess']\n",
    "meeting_notes_index_col = 'Section'\n",
    "\n",
    "# send email\n",
    "smtp_server = 'smtp.mater.org.au'\n",
    "smtp_port = '587'\n",
    "\n",
    "#=========== LIBRARIES ==============#\n",
    "import pandas as pd\n",
    "import pyodbc\n",
    "from datetime import datetime\n",
    "\n",
    "import io\n",
    "import smtplib\n",
    "from email.mime.application import MIMEApplication\n",
    "from email.mime.multipart import MIMEMultipart\n",
    "from email.mime.text import MIMEText\n",
    "\n",
    "from ipywidgets import interact, interactive, fixed, interact_manual\n",
    "import ipywidgets as widgets\n",
    "from IPython.display import display\n",
    "\n",
    "#=========== LIST OF PLANS ==============#\n",
    "PlansList = {'PLAN 1 NAME': '-6-Vic94GE-s5oiwg57nAsgAFOm6'}\n",
    "\n",
    "#=========== FUNCTIONS ==============#\n",
    "\n",
    "def exec_procedure_to_df(cs, query, meetingDate, planId, maxDays, meeting_notes_columns, meeting_notes_index_col):\n",
    "    # make connection pyodbc\n",
    "    conn = pyodbc.connect(cs)\n",
    "\n",
    "    cursor = conn.cursor()\n",
    "    conn.autocommit = True\n",
    "    cursor.execute(query, meetingDate, planId, maxDays)\n",
    "\n",
    "    results = cursor.fetchall()\n",
    "    df = pd.DataFrame.from_records(results, columns=meeting_notes_columns, index=meeting_notes_index_col)\n",
    "    conn.close()\n",
    "    return df\n",
    "\n",
    "def replace_breaks(df):\n",
    "    '''\n",
    "    Replace breaks '<br/>' with a new line character '\\n' in a dataframe\n",
    "    '''\n",
    "    df = df.replace('<br/>', '\\n', regex=True)\n",
    "    return df\n",
    "\n",
    "def export_excel(df):\n",
    "    with io.BytesIO() as buffer:\n",
    "        writer=pd.ExcelWriter(buffer)\n",
    "        df.to_excel(writer)\n",
    "        writer.save()\n",
    "        return buffer.getvalue()\n",
    "\n",
    "def send_dataframe(username, password, send_from, send_to, subject, body, df):\n",
    "    multipart = MIMEMultipart()\n",
    "    multipart['From'] = send_from\n",
    "    multipart['To'] = send_to\n",
    "    multipart['Subject'] = subject\n",
    "\n",
    "    EXPORTERS = {'meeting_notes.xlsx': export_excel}\n",
    "\n",
    "    for filename in EXPORTERS:\n",
    "        attachment = MIMEApplication(EXPORTERS[filename](df))\n",
    "        attachment['Content-Disposition'] = 'attachment; filename=\"{}\"'.format(filename)\n",
    "        multipart.attach(attachment)\n",
    "    multipart.attach(MIMEText(body, 'html'))\n",
    "    try:\n",
    "        server = smtplib.SMTP('smtp.mater.org.au','587')\n",
    "    except smtplib.socket.gaierror:\n",
    "        return False\n",
    "    server.ehlo()\n",
    "    server.starttls()\n",
    "    server.ehlo()\n",
    "    try:\n",
    "        server.login(username, password)\n",
    "    except SMTPAuthenticationError:\n",
    "        server.quit()\n",
    "        print('Authentication FAILED. Incorrect login credentials. Check username and password.')\n",
    "        return False\n",
    "    \n",
    "    server.sendmail(send_from, send_to, multipart.as_string())\n",
    "    print('Email sent successfully')\n",
    "    server.quit()\n",
    "    \n",
    "def run(query_sp, sql_db_username, sql_db_password, meetingDate, planId, maxDays, meeting_notes_columns, meeting_notes_index_col, username, password, send_to_email, send_from_email):\n",
    "    \n",
    "    # connect string\n",
    "    cs = (\n",
    "    \"DRIVER={ODBC Driver 17 for SQL Server};\"\n",
    "    \"Authentication=ActiveDirectoryPassword;\"\n",
    "    \"SERVER=mda-sql-aap-dev-ase.database.windows.net;\"\n",
    "    \"DATABASE=MDA-DB-DEV-CLA-AE;\"\n",
    "    f\"UID={sql_db_username};\"\n",
    "    f\"PWD={sql_db_password};\"\n",
    "    )\n",
    "    \n",
    "    # exec proc\n",
    "    df = exec_procedure_to_df(cs=cs, query=query_sp, meetingDate=meetingDate, planId=planId, maxDays=maxDays,\n",
    "                              meeting_notes_columns=meeting_notes_columns,\n",
    "                              meeting_notes_index_col=meeting_notes_index_col)\n",
    "\n",
    "    # Clean the line breaks\n",
    "    df = df.replace('<br/>', '\\n', regex=True)\n",
    "\n",
    "    # send the dataframe\n",
    "    send_dataframe(username=username, password=password, send_to=send_to_email, send_from=send_from_email, df=df, subject=f'Meeting Notes for {meetingDate}', body='Please find the file attached')"
   ]
  },
  {
   "cell_type": "markdown",
   "metadata": {},
   "source": [
    "# Step 2: Input Parameters"
   ]
  },
  {
   "cell_type": "markdown",
   "metadata": {},
   "source": [
    "## 2.1. Input Meeting Date:"
   ]
  },
  {
   "cell_type": "code",
   "execution_count": 3,
   "metadata": {},
   "outputs": [
    {
     "data": {
      "application/vnd.jupyter.widget-view+json": {
       "model_id": "211bd0d9c6f34dbc9e2dd945da12d844",
       "version_major": 2,
       "version_minor": 0
      },
      "text/plain": [
       "DatePicker(value=Timestamp('2020-11-04 00:00:00'), description='Input Date: ')"
      ]
     },
     "metadata": {},
     "output_type": "display_data"
    }
   ],
   "source": [
    "meetingDate=widgets.DatePicker(value=pd.to_datetime('2020-11-04'), description='Input Date: ')\n",
    "display(meetingDate)"
   ]
  },
  {
   "cell_type": "markdown",
   "metadata": {},
   "source": [
    "## 2.2. Input Period Length in Days:"
   ]
  },
  {
   "cell_type": "code",
   "execution_count": 4,
   "metadata": {},
   "outputs": [
    {
     "data": {
      "application/vnd.jupyter.widget-view+json": {
       "model_id": "96165523a4da45d383070e464ae89d46",
       "version_major": 2,
       "version_minor": 0
      },
      "text/plain": [
       "IntSlider(value=30, continuous_update=False, description='Input No of Days: ', min=1)"
      ]
     },
     "metadata": {},
     "output_type": "display_data"
    }
   ],
   "source": [
    "maxDays=widgets.IntSlider(\n",
    "    value=30,\n",
    "    min=1,\n",
    "    max=100,\n",
    "    step=1,\n",
    "    description='Input No of Days: ',\n",
    "    disabled=False,\n",
    "    continuous_update=False,\n",
    "    orientation='horizontal',\n",
    "    readout=True,\n",
    "    readout_format='d'\n",
    ")\n",
    "display(maxDays)"
   ]
  },
  {
   "cell_type": "markdown",
   "metadata": {},
   "source": [
    "## 2.3. Input Plan Name:"
   ]
  },
  {
   "cell_type": "code",
   "execution_count": 5,
   "metadata": {},
   "outputs": [
    {
     "data": {
      "application/vnd.jupyter.widget-view+json": {
       "model_id": "3afcfabe6b364deabdafe02a098220d2",
       "version_major": 2,
       "version_minor": 0
      },
      "text/plain": [
       "Dropdown(description='Input Plan Name: ', options=('PLAN 1 NAME',), value='PLAN 1 NAME')"
      ]
     },
     "metadata": {},
     "output_type": "display_data"
    }
   ],
   "source": [
    "planId = widgets.Dropdown(\n",
    "    options=[i for i in PlansList],\n",
    "    value=list(PlansList.keys())[0],\n",
    "    description='Input Plan Name: '\n",
    ")\n",
    "display(planId)"
   ]
  },
  {
   "cell_type": "markdown",
   "metadata": {},
   "source": [
    "## 2.4. Input SQL database username and password to connect to MDA-DB-DEV-CLA-AE on mda-sql-aap-dev-ase.database.windows.net:"
   ]
  },
  {
   "cell_type": "code",
   "execution_count": 6,
   "metadata": {},
   "outputs": [
    {
     "data": {
      "application/vnd.jupyter.widget-view+json": {
       "model_id": "3f823f7536e2414ea50bb339086da57a",
       "version_major": 2,
       "version_minor": 0
      },
      "text/plain": [
       "Text(value='Type your SQL username', description='SQL username: ', placeholder='Type your SQL username')"
      ]
     },
     "metadata": {},
     "output_type": "display_data"
    },
    {
     "data": {
      "application/vnd.jupyter.widget-view+json": {
       "model_id": "d6f99868e682420681439210a1ca86b6",
       "version_major": 2,
       "version_minor": 0
      },
      "text/plain": [
       "Text(value='Type your SQL password', description='SQL password: ', placeholder='Type SQL password')"
      ]
     },
     "metadata": {},
     "output_type": "display_data"
    }
   ],
   "source": [
    "sql_db_username = widgets.Text(\n",
    "    value='Type your SQL username',\n",
    "    placeholder='Type your SQL username',\n",
    "    description='SQL username: ',\n",
    "    disabled=False\n",
    ")\n",
    "sql_db_password = widgets.Text(\n",
    "    value='Type your SQL password',\n",
    "    placeholder='Type SQL password',\n",
    "    description='SQL password: ',\n",
    "    disabled=False\n",
    ")\n",
    "display(sql_db_username, sql_db_password)"
   ]
  },
  {
   "cell_type": "markdown",
   "metadata": {},
   "source": [
    "## 2.5. Input Outlook username and password (usually your username is your email @mater.org.au):"
   ]
  },
  {
   "cell_type": "code",
   "execution_count": 7,
   "metadata": {},
   "outputs": [
    {
     "data": {
      "application/vnd.jupyter.widget-view+json": {
       "model_id": "05b7aa7034eb4d419472a3ed884720ca",
       "version_major": 2,
       "version_minor": 0
      },
      "text/plain": [
       "Text(value='Type your username', description='Outlook username: ', placeholder='Type your username')"
      ]
     },
     "metadata": {},
     "output_type": "display_data"
    },
    {
     "data": {
      "application/vnd.jupyter.widget-view+json": {
       "model_id": "b224895468b440cb948dcc004dd365cf",
       "version_major": 2,
       "version_minor": 0
      },
      "text/plain": [
       "Text(value='Type your password', description='Outlook password: ', placeholder='Type your password')"
      ]
     },
     "metadata": {},
     "output_type": "display_data"
    }
   ],
   "source": [
    "# Input username and password for outlook\n",
    "outlook_username = widgets.Text(\n",
    "    value='Type your username',\n",
    "    placeholder='Type your username',\n",
    "    description='Outlook username: ',\n",
    "    disabled=False\n",
    ")\n",
    "outlook_password = widgets.Text(\n",
    "    value='Type your password',\n",
    "    placeholder='Type your password',\n",
    "    description='Outlook password: ',\n",
    "    disabled=False\n",
    ")\n",
    "display(outlook_username, outlook_password)"
   ]
  },
  {
   "cell_type": "markdown",
   "metadata": {},
   "source": [
    "## 2.6. Input from/to email address"
   ]
  },
  {
   "cell_type": "code",
   "execution_count": 8,
   "metadata": {},
   "outputs": [
    {
     "data": {
      "application/vnd.jupyter.widget-view+json": {
       "model_id": "d4b53400d1d944ed9c31dc47e56c97bf",
       "version_major": 2,
       "version_minor": 0
      },
      "text/plain": [
       "Text(value='Type email address', description='Send to: ', placeholder='Type email address')"
      ]
     },
     "metadata": {},
     "output_type": "display_data"
    },
    {
     "data": {
      "application/vnd.jupyter.widget-view+json": {
       "model_id": "90d839874877408492e225d479d9c3dd",
       "version_major": 2,
       "version_minor": 0
      },
      "text/plain": [
       "Text(value='Type email address', description='Send from: ', placeholder='Type email address')"
      ]
     },
     "metadata": {},
     "output_type": "display_data"
    }
   ],
   "source": [
    "send_to_email = widgets.Text(\n",
    "    value='Type email address',\n",
    "    placeholder='Type email address',\n",
    "    description='Send to: ',\n",
    "    disabled=False\n",
    ")\n",
    "send_from_email = widgets.Text(\n",
    "    value='Type email address',\n",
    "    placeholder='Type email address',\n",
    "    description='Send from: ',\n",
    "    disabled=False\n",
    ")\n",
    "display(send_to_email, send_from_email)"
   ]
  },
  {
   "cell_type": "markdown",
   "metadata": {},
   "source": [
    "# Step 3: Send an automatic email with meeting notes"
   ]
  },
  {
   "cell_type": "code",
   "execution_count": 9,
   "metadata": {},
   "outputs": [
    {
     "data": {
      "application/vnd.jupyter.widget-view+json": {
       "model_id": "a782ec1e95964cac9b0fccd81db042e5",
       "version_major": 2,
       "version_minor": 0
      },
      "text/plain": [
       "Button(description='Get Email', style=ButtonStyle())"
      ]
     },
     "metadata": {},
     "output_type": "display_data"
    }
   ],
   "source": [
    "button = widgets.Button(description=\"Get Email\")\n",
    "\n",
    "display(button)\n",
    "\n",
    "def on_button_clicked(b):\n",
    "    run(query_sp=query_sp, sql_db_username=sql_db_username.value, sql_db_password=sql_db_password.value, meetingDate=meetingDate.value.strftime(\"%Y-%m-%d\"), planId=PlansList[planId.value], maxDays=maxDays.value, meeting_notes_columns=meeting_notes_columns, meeting_notes_index_col=meeting_notes_index_col, username=outlook_username.value, password=outlook_password.value, send_to_email=send_to_email.value, send_from_email=send_from_email.value)\n",
    "\n",
    "button.on_click(on_button_clicked)"
   ]
  },
  {
   "cell_type": "markdown",
   "metadata": {},
   "source": [
    "# END"
   ]
  }
 ],
 "metadata": {
  "kernelspec": {
   "display_name": "Python 3",
   "language": "python",
   "name": "python3"
  },
  "language_info": {
   "codemirror_mode": {
    "name": "ipython",
    "version": 3
   },
   "file_extension": ".py",
   "mimetype": "text/x-python",
   "name": "python",
   "nbconvert_exporter": "python",
   "pygments_lexer": "ipython3",
   "version": "3.8.5"
  }
 },
 "nbformat": 4,
 "nbformat_minor": 4
}
